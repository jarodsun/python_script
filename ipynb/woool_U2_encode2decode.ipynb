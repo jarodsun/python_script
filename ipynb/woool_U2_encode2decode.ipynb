{
 "cells": [
  {
   "cell_type": "code",
   "execution_count": 1,
   "id": "c7e54ecd-f466-46a7-903a-eda6d0bacae2",
   "metadata": {},
   "outputs": [
    {
     "name": "stdout",
     "output_type": "stream",
     "text": [
      "你已经放弃了任务\n"
     ]
    }
   ],
   "source": [
    "encoded_string = b'\\xc4\\xe3\\xd2\\xd1\\xbe\\xad\\xb7\\xc5\\xc6\\xfa\\xc1\\xcb\\xc8\\xce\\xce\\xf1'\n",
    "decoded_string = encoded_string.decode('gbk')\n",
    "print(decoded_string)"
   ]
  },
  {
   "cell_type": "code",
   "execution_count": null,
   "id": "137f16e5-c92e-4c57-813f-436c492db4da",
   "metadata": {},
   "outputs": [],
   "source": []
  }
 ],
 "metadata": {
  "kernelspec": {
   "display_name": "Python 3 (ipykernel)",
   "language": "python",
   "name": "python3"
  },
  "language_info": {
   "codemirror_mode": {
    "name": "ipython",
    "version": 3
   },
   "file_extension": ".py",
   "mimetype": "text/x-python",
   "name": "python",
   "nbconvert_exporter": "python",
   "pygments_lexer": "ipython3",
   "version": "3.12.3"
  }
 },
 "nbformat": 4,
 "nbformat_minor": 5
}
